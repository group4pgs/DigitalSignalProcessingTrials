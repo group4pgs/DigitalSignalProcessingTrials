{
 "cells": [
  {
   "cell_type": "code",
   "execution_count": 1,
   "id": "fafcd77f-f9a4-4ead-b87c-656947280e7f",
   "metadata": {},
   "outputs": [],
   "source": [
    "import cmath\n",
    "import numpy as np\n",
    "import matplotlib.pyplot as plt\n",
    "import sympy"
   ]
  },
  {
   "cell_type": "code",
   "execution_count": 2,
   "id": "1b89305c-4fbb-4520-a33f-a2d2fe816ed5",
   "metadata": {},
   "outputs": [],
   "source": [
    "def Nyq_plot(Gs,omega):\n",
    "    G_real,G_imag = [],[]\n",
    "    Gjw = Gs.subs(s,1j*w)\n",
    "    for i in omega:\n",
    "        G = Gjw.copy().subs(w,i)\n",
    "        G_real.append(sympy.re(G))\n",
    "        G_imag.append(sympy.im(G))\n",
    "    return [G_real,G_imag]"
   ]
  },
  {
   "cell_type": "code",
   "execution_count": 3,
   "id": "c91a2ea0-b266-4f43-989a-7c53732ef7bf",
   "metadata": {},
   "outputs": [
    {
     "name": "stdout",
     "output_type": "stream",
     "text": [
      "length ->  500\n"
     ]
    }
   ],
   "source": [
    "omega = np.linspace(-100,100,500)\n",
    "print('length -> ',len(omega))"
   ]
  },
  {
   "cell_type": "code",
   "execution_count": 4,
   "id": "4bc24923-4240-4f2d-91ed-4dd0ea34462d",
   "metadata": {},
   "outputs": [
    {
     "data": {
      "text/latex": [
       "$\\displaystyle \\frac{s + 3}{s^{2} - 4}$"
      ],
      "text/plain": [
       "(s + 3)/(s**2 - 4)"
      ]
     },
     "execution_count": 4,
     "metadata": {},
     "output_type": "execute_result"
    }
   ],
   "source": [
    "s,w = sympy.Symbol('s'),sympy.Symbol('\\omega')\n",
    "Gs = (s+3)/(s**2-4)\n",
    "Gs"
   ]
  },
  {
   "cell_type": "code",
   "execution_count": 5,
   "id": "657a2244-5803-4056-88d2-9c4f72cdeec9",
   "metadata": {},
   "outputs": [],
   "source": [
    "G_real,G_imag = Nyq_plot(Gs,omega)"
   ]
  },
  {
   "cell_type": "code",
   "execution_count": 13,
   "id": "63e58009-c768-48ae-a25d-dd8a80f8f2bf",
   "metadata": {},
   "outputs": [
    {
     "data": {
      "image/png": "[encoded data removed]",
      "text/plain": [
       "<Figure size 432x288 with 1 Axes>"
      ]
     },
     "metadata": {
      "needs_background": "light"
     },
     "output_type": "display_data"
    }
   ],
   "source": [
    "plt.plot(G_real[:int(len(G_real)/2)],G_imag[:int(len(G_real)/2)],'ro-')\n",
    "plt.plot(G_real[int(len(G_real)/2):],G_imag[int(len(G_real)/2):],'bo-')\n",
    "plt.scatter([-2,2],[0,0],marker='x')\n",
    "plt.text(-2,0.2,r\"$G(s) = \\frac{s+3}{s^{2}-4}$\")\n",
    "plt.grid()\n",
    "plt.show()"
   ]
  },
  {
   "cell_type": "code",
   "execution_count": null,
   "id": "dda8416e-9129-4bd6-bfd6-a4e250798504",
   "metadata": {},
   "outputs": [],
   "source": []
  }
 ],
 "metadata": {
  "kernelspec": {
   "display_name": "Python 3 (ipykernel)",
   "language": "python",
   "name": "python3"
  },
  "language_info": {
   "codemirror_mode": {
    "name": "ipython",
    "version": 3
   },
   "file_extension": ".py",
   "mimetype": "text/x-python",
   "name": "python",
   "nbconvert_exporter": "python",
   "pygments_lexer": "ipython3",
   "version": "3.9.7"
  }
 },
 "nbformat": 4,
 "nbformat_minor": 5
}
